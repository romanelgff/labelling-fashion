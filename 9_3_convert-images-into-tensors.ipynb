{
 "cells": [
  {
   "cell_type": "markdown",
   "metadata": {},
   "source": [
    "Neural networks don't work with image files, but with tensors. Therefore, we need to convert all the images into numpy arrays that Tensorflow can work with. We also need to resize the images, to save computational power and memory. This is a standard thing that we want to do in computer vision. To do so, we will use the image module from the pillow library."
   ]
  },
  {
   "cell_type": "code",
   "execution_count": 1,
   "metadata": {},
   "outputs": [],
   "source": [
    "import numpy as np\n",
    "from PIL import Image "
   ]
  },
  {
   "cell_type": "code",
   "execution_count": 2,
   "metadata": {},
   "outputs": [],
   "source": [
    "# Define the name of the image file we will use\n",
    "filename = \"Test image.jpg\""
   ]
  },
  {
   "cell_type": "code",
   "execution_count": 4,
   "metadata": {},
   "outputs": [],
   "source": [
    "# Load the image as a Python variable\n",
    "# We can manipulate this variable with the Pillow package\n",
    "image = Image.open(filename)"
   ]
  },
  {
   "cell_type": "code",
   "execution_count": 5,
   "metadata": {},
   "outputs": [],
   "source": [
    "# Displays the image contained in the variable through your default photo veiwer\n",
    "image.show()"
   ]
  },
  {
   "cell_type": "code",
   "execution_count": 5,
   "metadata": {},
   "outputs": [],
   "source": [
    "# Resize the image while keeping the aspect ration constant\n",
    "# The 'image' variable is updated with the new image\n",
    "image.thumbnail((90,120))"
   ]
  },
  {
   "cell_type": "code",
   "execution_count": 6,
   "metadata": {},
   "outputs": [],
   "source": [
    "image.show()"
   ]
  },
  {
   "cell_type": "code",
   "execution_count": 7,
   "metadata": {},
   "outputs": [],
   "source": [
    "# Convert the variable into a NumPy array (tensor) \n",
    "image_array = np.asarray(image)"
   ]
  },
  {
   "cell_type": "code",
   "execution_count": 8,
   "metadata": {},
   "outputs": [
    {
     "data": {
      "text/plain": [
       "(120, 90, 3)"
      ]
     },
     "execution_count": 8,
     "metadata": {},
     "output_type": "execute_result"
    }
   ],
   "source": [
    "# Check the dimensions of the array\n",
    "# The convention for image arrays is (height x width x channels)\n",
    "# 'channels' refferes to the colors \n",
    "#   - 1 for grayscale (only 1 value for each pixel)\n",
    "#   - 3 for color images (red, green and blue values/channels)\n",
    "np.shape(image_array)"
   ]
  },
  {
   "cell_type": "markdown",
   "metadata": {},
   "source": [
    "**Recap of the structure of Tensorboard's hyperparameter tuning**\n",
    "\n",
    "First, we define the hyperparameters and their values at the start, and write this information in the logs. Then, we define a function to train the model with the given set of hyperparameter values. This function returns the test accuracy of this model. After that, we define another function, with the purpose to start the first function and log the results. Finally, we have a nested for loop, that iterates over every set of hyperparameters and calls the run function."
   ]
  },
  {
   "cell_type": "markdown",
   "metadata": {},
   "source": [
    "**Tracked metrics**\n",
    "* Accuracy\n",
    "* Confusion matrix: plot_confusion_matrix() (plots the matrix visually in matplotlib given the computed numbers) ; plot_to_image() (converts to png image) ; log_confusion_matrix() (computes the actual numbers using sklearn and logging the info to Tensorboard) \n",
    "\n",
    "Finally, we should define the callbacks to start the whole process."
   ]
  }
 ],
 "metadata": {
  "kernelspec": {
   "display_name": "Python 3",
   "language": "python",
   "name": "python3"
  },
  "language_info": {
   "codemirror_mode": {
    "name": "ipython",
    "version": 3
   },
   "file_extension": ".py",
   "mimetype": "text/x-python",
   "name": "python",
   "nbconvert_exporter": "python",
   "pygments_lexer": "ipython3",
   "version": "3.7.4"
  }
 },
 "nbformat": 4,
 "nbformat_minor": 2
}
