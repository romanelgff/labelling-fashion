{
 "cells": [
  {
   "cell_type": "code",
   "execution_count": 1,
   "metadata": {},
   "outputs": [],
   "source": [
    "import io\n",
    "import itertools\n",
    "\n",
    "import numpy as np\n",
    "import sklearn.metrics\n",
    "\n",
    "import tensorflow as tf\n",
    "from tensorboard.plugins.hparams import api as hp\n",
    "\n",
    "import matplotlib.pyplot as plt"
   ]
  },
  {
   "cell_type": "code",
   "execution_count": 2,
   "metadata": {},
   "outputs": [],
   "source": [
    "# Loading the datasets\n",
    "data_train = np.load(r\"Dataset/Shoes - All - Train.npz\")\n",
    "data_val = np.load(r\"Dataset/Shoes - All - Validation.npz\")\n",
    "data_test = np.load(r\"Dataset/Shoes - All - Test.npz\")"
   ]
  },
  {
   "cell_type": "code",
   "execution_count": 3,
   "metadata": {},
   "outputs": [],
   "source": [
    "# Extracting the arrays from the imported data\n",
    "images_train = data_train['images']\n",
    "labels_train = data_train['labels']\n",
    "\n",
    "images_val = data_val['images']\n",
    "labels_val = data_val['labels']\n",
    "\n",
    "images_test = data_test['images']\n",
    "labels_test = data_test['labels']"
   ]
  },
  {
   "cell_type": "code",
   "execution_count": 4,
   "metadata": {},
   "outputs": [],
   "source": [
    "# Flipping the images right to left\n",
    "images_train_flipped = np.flip(images_train, axis=2)\n",
    "images_val_flipped = np.flip(images_val, axis=2)\n",
    "images_test_flipped = np.flip(images_test, axis=2)"
   ]
  },
  {
   "cell_type": "code",
   "execution_count": 5,
   "metadata": {},
   "outputs": [],
   "source": [
    "# Combining the flipped dataset with the original one to obtain the new dataset\n",
    "images_train = np.concatenate( (images_train, images_train_flipped) )\n",
    "labels_train = np.concatenate( (labels_train, labels_train) )\n",
    "\n",
    "images_val = np.concatenate( (images_val, images_val_flipped) )\n",
    "labels_val = np.concatenate( (labels_val, labels_val) )\n",
    "\n",
    "images_test = np.concatenate( (images_test, images_test_flipped) )\n",
    "labels_test = np.concatenate( (labels_test, labels_test) )"
   ]
  },
  {
   "cell_type": "code",
   "execution_count": null,
   "metadata": {},
   "outputs": [],
   "source": []
  },
  {
   "cell_type": "code",
   "execution_count": 6,
   "metadata": {},
   "outputs": [],
   "source": [
    "# Scaling the pixel values\n",
    "images_train = images_train/255.0\n",
    "images_val = images_val/255.0\n",
    "images_test = images_test/255.0"
   ]
  },
  {
   "cell_type": "code",
   "execution_count": null,
   "metadata": {},
   "outputs": [],
   "source": []
  },
  {
   "cell_type": "code",
   "execution_count": 7,
   "metadata": {},
   "outputs": [],
   "source": [
    "# Defining the hyperparameters we would tune, and their values to be tested\n",
    "HP_RUN_NUMBER = hp.HParam('run_number', hp.Discrete([i+1 for i in range(10)]))\n",
    "\n",
    "METRIC_ACCURACY = 'accuracy'\n",
    "\n",
    "# Logging setup info\n",
    "with tf.summary.create_file_writer(r'Logs/Model 1/hparam_tuning/').as_default():\n",
    "    hp.hparams_config(\n",
    "        hparams=[HP_RUN_NUMBER],\n",
    "        metrics=[hp.Metric(METRIC_ACCURACY, display_name='Accuracy')],\n",
    "    )"
   ]
  },
  {
   "cell_type": "code",
   "execution_count": null,
   "metadata": {},
   "outputs": [],
   "source": []
  },
  {
   "cell_type": "code",
   "execution_count": 8,
   "metadata": {},
   "outputs": [],
   "source": [
    "EPOCHS = 20\n",
    "BATCH_SIZE = 64"
   ]
  },
  {
   "cell_type": "code",
   "execution_count": null,
   "metadata": {},
   "outputs": [],
   "source": []
  },
  {
   "cell_type": "code",
   "execution_count": 9,
   "metadata": {},
   "outputs": [],
   "source": [
    "# Wrapping our model and training in a function\n",
    "def train_test_model(hparams, session_num):\n",
    "    \n",
    "    # Outlining the model/architecture of our CNN\n",
    "    model = tf.keras.Sequential([\n",
    "        tf.keras.layers.Conv2D(64, 3, activation='relu', input_shape=(120,90,3)),\n",
    "        tf.keras.layers.MaxPooling2D(pool_size=(2,2)),\n",
    "        tf.keras.layers.Conv2D(64, 3, activation='relu'),\n",
    "        tf.keras.layers.MaxPooling2D(pool_size=(2,2)),\n",
    "        tf.keras.layers.Flatten(),\n",
    "        tf.keras.layers.Dense(512, activation='relu'),\n",
    "        tf.keras.layers.Dense(11)\n",
    "    ])\n",
    "    \n",
    "    # Defining the loss function\n",
    "    loss_fn = tf.keras.losses.SparseCategoricalCrossentropy(from_logits=True)\n",
    "\n",
    "    # Compiling the model\n",
    "    model.compile(optimizer='adam', loss=loss_fn, metrics=['accuracy'])\n",
    "\n",
    "    # Defining the logging directory\n",
    "    log_dir = \"Logs/Model 1/fit/\" + \"run-{}\".format(session_num)\n",
    "    \n",
    "    def plot_confusion_matrix(cm, class_names):\n",
    "        \"\"\"\n",
    "        Returns a matplotlib figure containing the plotted confusion matrix.\n",
    "\n",
    "        Args:\n",
    "          cm (array, shape = [n, n]): a confusion matrix of integer classes\n",
    "          class_names (array, shape = [n]): String names of the integer classes\n",
    "        \"\"\"\n",
    "        figure = plt.figure(figsize=(12, 12))\n",
    "        plt.imshow(cm, interpolation='nearest', cmap=plt.cm.Blues)\n",
    "        plt.title(\"Confusion matrix\")\n",
    "        plt.colorbar()\n",
    "        tick_marks = np.arange(len(class_names))\n",
    "        plt.xticks(tick_marks, class_names, rotation=45)\n",
    "        plt.yticks(tick_marks, class_names)\n",
    "\n",
    "        # Normalize the confusion matrix.\n",
    "        cm = np.around(cm.astype('float') / cm.sum(axis=1)[:, np.newaxis], decimals=2)\n",
    "\n",
    "        # Use white text if squares are dark; otherwise black.\n",
    "        threshold = cm.max() / 2.\n",
    "        for i, j in itertools.product(range(cm.shape[0]), range(cm.shape[1])):\n",
    "            color = \"white\" if cm[i, j] > threshold else \"black\"\n",
    "            plt.text(j, i, cm[i, j], horizontalalignment=\"center\", color=color)\n",
    "\n",
    "        plt.tight_layout()\n",
    "        plt.ylabel('True label')\n",
    "        plt.xlabel('Predicted label')\n",
    "        return figure  \n",
    "    \n",
    "    \n",
    "    def plot_to_image(figure):\n",
    "        \"\"\"Converts the matplotlib plot specified by 'figure' to a PNG image and\n",
    "        returns it. The supplied figure is closed and inaccessible after this call.\"\"\"\n",
    "        # Save the plot to a PNG in memory.\n",
    "        buf = io.BytesIO()\n",
    "        plt.savefig(buf, format='png')\n",
    "        # Closing the figure prevents it from being displayed directly inside\n",
    "        # the notebook.\n",
    "        plt.close(figure)\n",
    "        buf.seek(0)\n",
    "        # Convert PNG buffer to TF image\n",
    "        image = tf.image.decode_png(buf.getvalue(), channels=4)\n",
    "        # Add the batch dimension\n",
    "        image = tf.expand_dims(image, 0)\n",
    "        return image\n",
    "    \n",
    "    \n",
    "    # Defining a file writer for Confusion Matrix logging purposes\n",
    "    file_writer_cm = tf.summary.create_file_writer(log_dir + '/cm')\n",
    "    \n",
    "    \n",
    "    def log_confusion_matrix(epoch, logs):\n",
    "        # Use the model to predict the values from the validation dataset.\n",
    "        test_pred_raw = model.predict(images_val)\n",
    "        test_pred = np.argmax(test_pred_raw, axis=1)\n",
    "\n",
    "        # Calculate the confusion matrix.\n",
    "        cm = sklearn.metrics.confusion_matrix(labels_val, test_pred)\n",
    "        # Log the confusion matrix as an image summary.\n",
    "        figure = plot_confusion_matrix(cm, class_names=['Boots Male', 'Trainers/Sneakers Male', 'Sandals/Flip flops/Slippers Male', 'Formal shoes', 'Others Male', 'Boots Female', \"Trainers/Sneakers Female\", 'Sandals/Flip flops/Slippers Female', 'High heels', 'Ballerina shoes', 'Others Female'])\n",
    "        cm_image = plot_to_image(figure)\n",
    "\n",
    "        # Log the confusion matrix as an image summary.\n",
    "        with file_writer_cm.as_default():\n",
    "            tf.summary.image(\"Confusion Matrix\", cm_image, step=epoch)\n",
    "    \n",
    "    \n",
    "    # Define the Tensorboard and Confusion Matrix callbacks.\n",
    "    tensorboard_callback = tf.keras.callbacks.TensorBoard(log_dir=log_dir, histogram_freq=1, profile_batch=0)\n",
    "    cm_callback = tf.keras.callbacks.LambdaCallback(on_epoch_end=log_confusion_matrix)\n",
    "\n",
    "    \n",
    "    # Defining early stopping to prevent overfitting\n",
    "    early_stopping = tf.keras.callbacks.EarlyStopping(\n",
    "        monitor = 'val_loss',\n",
    "        mode = 'auto',\n",
    "        min_delta = 0,\n",
    "        patience = 2,\n",
    "        verbose = 0, \n",
    "        restore_best_weights = True\n",
    "    )\n",
    "    \n",
    "    # Training the model\n",
    "    model.fit(\n",
    "        images_train,\n",
    "        labels_train,\n",
    "        epochs = EPOCHS,\n",
    "        batch_size = BATCH_SIZE,\n",
    "        callbacks = [tensorboard_callback, cm_callback, early_stopping],\n",
    "        validation_data = (images_val,labels_val),\n",
    "        verbose = 2\n",
    "    )\n",
    "    \n",
    "    \n",
    "    # Evaluating the model's performance on the validation set\n",
    "    _, accuracy = model.evaluate(images_val,labels_val)\n",
    "    \n",
    "    # Saving the current model for future reference\n",
    "    model.save(r\"saved_models/Model 1/Run-{}\".format(session_num))\n",
    "    \n",
    "    return accuracy"
   ]
  },
  {
   "cell_type": "code",
   "execution_count": 10,
   "metadata": {},
   "outputs": [],
   "source": [
    "# Creating a function to log the resuls\n",
    "def run(log_dir, hparams, session_num):\n",
    "    \n",
    "    with tf.summary.create_file_writer(log_dir).as_default():\n",
    "        hp.hparams(hparams)  # record the values used in this trial\n",
    "        accuracy = train_test_model(hparams, session_num)\n",
    "        tf.summary.scalar(METRIC_ACCURACY, accuracy, step=1)"
   ]
  },
  {
   "cell_type": "code",
   "execution_count": null,
   "metadata": {},
   "outputs": [
    {
     "name": "stdout",
     "output_type": "stream",
     "text": [
      "--- Starting trial: run-1\n",
      "{'run_number': 1}\n",
      "Epoch 1/20\n",
      "155/155 - 368s - loss: 1.5213 - accuracy: 0.5459 - val_loss: 1.1243 - val_accuracy: 0.6179\n",
      "Epoch 2/20\n",
      "155/155 - 369s - loss: 0.8244 - accuracy: 0.7117 - val_loss: 0.8523 - val_accuracy: 0.7197\n",
      "Epoch 3/20\n",
      "155/155 - 411s - loss: 0.6401 - accuracy: 0.7763 - val_loss: 0.8186 - val_accuracy: 0.7464\n",
      "Epoch 4/20\n",
      "155/155 - 377s - loss: 0.5065 - accuracy: 0.8183 - val_loss: 0.8089 - val_accuracy: 0.7593\n",
      "Epoch 5/20\n",
      "155/155 - 357s - loss: 0.3969 - accuracy: 0.8538 - val_loss: 0.8403 - val_accuracy: 0.7633\n",
      "Epoch 6/20\n",
      "155/155 - 380s - loss: 0.3196 - accuracy: 0.8873 - val_loss: 0.9167 - val_accuracy: 0.7698\n",
      "39/39 [==============================] - 11s 252ms/step - loss: 0.8089 - accuracy: 0.7593\n",
      "INFO:tensorflow:Assets written to: saved_models/Model 1/Run-1/assets\n",
      "--- Starting trial: run-2\n",
      "{'run_number': 2}\n",
      "Epoch 1/20\n",
      "155/155 - 350s - loss: 1.3492 - accuracy: 0.5742 - val_loss: 1.0413 - val_accuracy: 0.6688\n",
      "Epoch 2/20\n",
      "155/155 - 334s - loss: 0.8249 - accuracy: 0.7150 - val_loss: 0.8561 - val_accuracy: 0.6987\n",
      "Epoch 3/20\n",
      "155/155 - 334s - loss: 0.6570 - accuracy: 0.7696 - val_loss: 0.8112 - val_accuracy: 0.7270\n",
      "Epoch 4/20\n",
      "155/155 - 381s - loss: 0.4999 - accuracy: 0.8220 - val_loss: 0.9048 - val_accuracy: 0.7246\n",
      "Epoch 5/20\n",
      "155/155 - 382s - loss: 0.3859 - accuracy: 0.8592 - val_loss: 0.8346 - val_accuracy: 0.7553\n",
      "39/39 [==============================] - 13s 314ms/step - loss: 0.8112 - accuracy: 0.7270\n",
      "INFO:tensorflow:Assets written to: saved_models/Model 1/Run-2/assets\n",
      "--- Starting trial: run-3\n",
      "{'run_number': 3}\n",
      "Epoch 1/20\n",
      "155/155 - 398s - loss: 1.3506 - accuracy: 0.5610 - val_loss: 1.0925 - val_accuracy: 0.6478\n",
      "Epoch 2/20\n",
      "155/155 - 353s - loss: 0.8092 - accuracy: 0.7136 - val_loss: 0.8460 - val_accuracy: 0.7205\n",
      "Epoch 3/20\n",
      "155/155 - 401s - loss: 0.6278 - accuracy: 0.7798 - val_loss: 0.8469 - val_accuracy: 0.7044\n",
      "Epoch 4/20\n",
      "155/155 - 365s - loss: 0.4867 - accuracy: 0.8250 - val_loss: 0.7794 - val_accuracy: 0.7359\n",
      "Epoch 5/20\n",
      "155/155 - 372s - loss: 0.3682 - accuracy: 0.8650 - val_loss: 0.9269 - val_accuracy: 0.7456\n",
      "Epoch 6/20\n",
      "155/155 - 311s - loss: 0.2936 - accuracy: 0.8941 - val_loss: 0.8792 - val_accuracy: 0.7698\n",
      "39/39 [==============================] - 13s 310ms/step - loss: 0.7794 - accuracy: 0.7359\n",
      "INFO:tensorflow:Assets written to: saved_models/Model 1/Run-3/assets\n",
      "--- Starting trial: run-4\n",
      "{'run_number': 4}\n",
      "Epoch 1/20\n",
      "155/155 - 400s - loss: 1.4047 - accuracy: 0.5411 - val_loss: 0.9968 - val_accuracy: 0.6785\n",
      "Epoch 2/20\n",
      "155/155 - 344s - loss: 0.8024 - accuracy: 0.7161 - val_loss: 0.8567 - val_accuracy: 0.6995\n",
      "Epoch 3/20\n",
      "155/155 - 379s - loss: 0.6317 - accuracy: 0.7737 - val_loss: 0.7795 - val_accuracy: 0.7431\n",
      "Epoch 4/20\n",
      "155/155 - 336s - loss: 0.4936 - accuracy: 0.8211 - val_loss: 0.8006 - val_accuracy: 0.7431\n",
      "Epoch 5/20\n",
      "155/155 - 339s - loss: 0.4003 - accuracy: 0.8543 - val_loss: 0.8103 - val_accuracy: 0.7625\n",
      "39/39 [==============================] - 11s 239ms/step - loss: 0.7795 - accuracy: 0.7431\n",
      "INFO:tensorflow:Assets written to: saved_models/Model 1/Run-4/assets\n",
      "--- Starting trial: run-5\n",
      "{'run_number': 5}\n",
      "Epoch 1/20\n",
      "155/155 - 323s - loss: 1.3895 - accuracy: 0.5521 - val_loss: 1.2322 - val_accuracy: 0.5622\n",
      "Epoch 2/20\n",
      "155/155 - 408s - loss: 0.8391 - accuracy: 0.7137 - val_loss: 0.8902 - val_accuracy: 0.7108\n",
      "Epoch 3/20\n",
      "155/155 - 396s - loss: 0.6383 - accuracy: 0.7770 - val_loss: 0.8136 - val_accuracy: 0.7334\n",
      "Epoch 4/20\n",
      "155/155 - 359s - loss: 0.5102 - accuracy: 0.8157 - val_loss: 0.8712 - val_accuracy: 0.7124\n",
      "Epoch 5/20\n",
      "155/155 - 321s - loss: 0.4029 - accuracy: 0.8551 - val_loss: 0.8288 - val_accuracy: 0.7641\n",
      "39/39 [==============================] - 11s 245ms/step - loss: 0.8136 - accuracy: 0.7334\n",
      "INFO:tensorflow:Assets written to: saved_models/Model 1/Run-5/assets\n",
      "--- Starting trial: run-6\n",
      "{'run_number': 6}\n",
      "Epoch 1/20\n",
      "155/155 - 943s - loss: 1.4466 - accuracy: 0.5450 - val_loss: 1.0532 - val_accuracy: 0.6478\n",
      "Epoch 2/20\n"
     ]
    }
   ],
   "source": [
    "session_num = 1\n",
    "\n",
    "for run_number in HP_RUN_NUMBER.domain.values:\n",
    "\n",
    "    hparams = {\n",
    "        HP_RUN_NUMBER: run_number\n",
    "    }\n",
    "\n",
    "    run_name = \"run-%d\" % session_num\n",
    "    print('--- Starting trial: %s' % run_name)\n",
    "    print({h.name: hparams[h] for h in hparams})\n",
    "    run('Logs/Model 1/hparam_tuning/' + run_name, hparams, session_num)\n",
    "\n",
    "    session_num += 1"
   ]
  },
  {
   "cell_type": "code",
   "execution_count": null,
   "metadata": {},
   "outputs": [],
   "source": []
  },
  {
   "cell_type": "code",
   "execution_count": null,
   "metadata": {},
   "outputs": [],
   "source": []
  },
  {
   "cell_type": "code",
   "execution_count": null,
   "metadata": {},
   "outputs": [],
   "source": [
    "# Loading a model to evaluate on the test set\n",
    "model = tf.keras.models.load_model(r\"saved_models/Model 1/Run-1\")"
   ]
  },
  {
   "cell_type": "code",
   "execution_count": null,
   "metadata": {},
   "outputs": [],
   "source": [
    "test_loss, test_accuracy = model.evaluate(images_test,labels_test)"
   ]
  },
  {
   "cell_type": "code",
   "execution_count": null,
   "metadata": {},
   "outputs": [],
   "source": [
    "# Printing the test results\n",
    "print('Test loss: {0:.4f}. Test accuracy: {1:.2f}%'.format(test_loss, test_accuracy*100.))"
   ]
  },
  {
   "cell_type": "code",
   "execution_count": null,
   "metadata": {},
   "outputs": [],
   "source": []
  },
  {
   "cell_type": "code",
   "execution_count": null,
   "metadata": {},
   "outputs": [],
   "source": []
  },
  {
   "cell_type": "code",
   "execution_count": null,
   "metadata": {},
   "outputs": [],
   "source": [
    "%load_ext tensorboard\n",
    "%tensorboard --logdir \"Logs/Model 1/hparam_tuning\""
   ]
  },
  {
   "cell_type": "code",
   "execution_count": null,
   "metadata": {},
   "outputs": [],
   "source": [
    "%load_ext tensorboard\n",
    "%tensorboard --logdir \"Logs/Model 1/fit\""
   ]
  },
  {
   "cell_type": "code",
   "execution_count": null,
   "metadata": {},
   "outputs": [],
   "source": []
  },
  {
   "cell_type": "code",
   "execution_count": null,
   "metadata": {},
   "outputs": [],
   "source": []
  },
  {
   "cell_type": "code",
   "execution_count": null,
   "metadata": {},
   "outputs": [],
   "source": []
  }
 ],
 "metadata": {
  "kernelspec": {
   "display_name": "Python 3",
   "language": "python",
   "name": "python3"
  },
  "language_info": {
   "codemirror_mode": {
    "name": "ipython",
    "version": 3
   },
   "file_extension": ".py",
   "mimetype": "text/x-python",
   "name": "python",
   "nbconvert_exporter": "python",
   "pygments_lexer": "ipython3",
   "version": "3.7.4"
  }
 },
 "nbformat": 4,
 "nbformat_minor": 2
}
