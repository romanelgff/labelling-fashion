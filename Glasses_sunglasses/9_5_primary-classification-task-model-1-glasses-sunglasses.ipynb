{
 "cells": [
  {
   "cell_type": "markdown",
   "metadata": {},
   "source": [
    "In this notebook, we focus on the glasses/sunglasses category. We will exactly the same thing as for the primary classification, but instead we will try to differentiate between 2 subcategories: glasses and sunglasses."
   ]
  },
  {
   "cell_type": "code",
   "execution_count": null,
   "metadata": {},
   "outputs": [],
   "source": [
    "import io\n",
    "import itertools\n",
    "\n",
    "import numpy as np # for the datasets\n",
    "import sklearn.metrics\n",
    "\n",
    "import tensorflow as tf\n",
    "from tensorboard.plugins.hparams import api as hp\n",
    "\n",
    "import matplotlib.pyplot as plt # for the cm"
   ]
  },
  {
   "cell_type": "code",
   "execution_count": 20,
   "metadata": {},
   "outputs": [],
   "source": [
    "# Loading the datasets\n",
    "data_train = np.load(r\"Dataset/Glasses & Sunglasses - Train.npz\") # .npz format is a numpy extension for storing multiple numpy arrays (contains 2 arrays: \"labels\" and \"images\")\n",
    "data_val = np.load(r\"Dataset/Glasses & Sunglasses - Validation.npz\")\n",
    "data_test = np.load(r\"Dataset/Glasses & Sunglasses - Test.npz\")"
   ]
  },
  {
   "cell_type": "code",
   "execution_count": 21,
   "metadata": {},
   "outputs": [],
   "source": [
    "# Extracting the arrays from the imported data\n",
    "images_train = data_train['images']\n",
    "labels_train = data_train['labels']\n",
    "\n",
    "images_val = data_val['images']\n",
    "labels_val = data_val['labels']\n",
    "\n",
    "images_test = data_test['images']\n",
    "labels_test = data_test['labels']"
   ]
  },
  {
   "cell_type": "code",
   "execution_count": 22,
   "metadata": {},
   "outputs": [],
   "source": [
    "# Scaling the pixel values of all images\n",
    "images_train = images_train/255.0\n",
    "images_val = images_val/255.0\n",
    "images_test = images_test/255.0"
   ]
  },
  {
   "cell_type": "code",
   "execution_count": 23,
   "metadata": {},
   "outputs": [],
   "source": [
    "# Defining constants\n",
    "EPOCHS = 15 # to prevent the training from becoming too long\n",
    "BATCH_SIZE = 64 # not an hyperparameter to tune (in general, the batch size may affect the speed of the training, but not the accuracy* not true for every network, dataset and problem)"
   ]
  },
  {
   "cell_type": "code",
   "execution_count": 24,
   "metadata": {},
   "outputs": [],
   "source": [
    "# Defining the hyperparameters we would tune, and their values to be tested\n",
    "HP_FILTER_SIZE = hp.HParam('filter_size', hp.Discrete([3,5]))\n",
    "HP_FILTER_NUM = hp.HParam('filters_number', hp.Discrete([32,64]))\n",
    "\n",
    "METRIC_ACCURACY = 'accuracy'\n",
    "\n",
    "# Logging setup info\n",
    "with tf.summary.create_file_writer(r'Logs/Model 1/hparam_tuning/').as_default():\n",
    "    hp.hparams_config(\n",
    "        hparams=[HP_FILTER_SIZE, HP_FILTER_NUM],\n",
    "        metrics=[hp.Metric(METRIC_ACCURACY, display_name='Accuracy')],\n",
    "    )"
   ]
  },
  {
   "cell_type": "code",
   "execution_count": 25,
   "metadata": {},
   "outputs": [],
   "source": [
    "# Wrapping our model and training in a function\n",
    "def train_test_model(hparams, session_num):\n",
    "    \n",
    "    # Outlining the model/architecture of our CNN\n",
    "    model = tf.keras.Sequential([\n",
    "        tf.keras.layers.Conv2D(hparams[HP_FILTER_NUM], hparams[HP_FILTER_SIZE], activation='relu', input_shape=(120,90,3)),\n",
    "        tf.keras.layers.MaxPooling2D(pool_size=(2,2)),\n",
    "        tf.keras.layers.Conv2D(hparams[HP_FILTER_NUM], 3, activation='relu'),\n",
    "        tf.keras.layers.MaxPooling2D(pool_size=(2,2)),\n",
    "        tf.keras.layers.Flatten(),\n",
    "        tf.keras.layers.Dense(2)\n",
    "    ])\n",
    "    \n",
    "    # Defining the loss function\n",
    "    loss_fn = tf.keras.losses.SparseCategoricalCrossentropy(from_logits=True)\n",
    "\n",
    "    # Compiling the model\n",
    "    model.compile(optimizer='adam', loss=loss_fn, metrics=['accuracy'])\n",
    "\n",
    "    # Defining the logging directory\n",
    "    log_dir = \"Logs/Model 1/fit/\" + \"run-{}\".format(session_num)\n",
    "    \n",
    "    \n",
    "    def plot_confusion_matrix(cm, class_names):\n",
    "        \"\"\"\n",
    "        Returns a matplotlib figure containing the plotted confusion matrix.\n",
    "\n",
    "        Args:\n",
    "          cm (array, shape = [n, n]): a confusion matrix of integer classes\n",
    "          class_names (array, shape = [n]): String names of the integer classes\n",
    "        \"\"\"\n",
    "        figure = plt.figure(figsize=(12, 12))\n",
    "        plt.imshow(cm, interpolation='nearest', cmap=plt.cm.Blues)\n",
    "        plt.title(\"Confusion matrix\")\n",
    "        plt.colorbar()\n",
    "        tick_marks = np.arange(len(class_names))\n",
    "        plt.xticks(tick_marks, class_names, rotation=45)\n",
    "        plt.yticks(tick_marks, class_names)\n",
    "\n",
    "        # Normalize the confusion matrix.\n",
    "        cm = np.around(cm.astype('float') / cm.sum(axis=1)[:, np.newaxis], decimals=2)\n",
    "\n",
    "        # Use white text if squares are dark; otherwise black.\n",
    "        threshold = cm.max() / 2.\n",
    "        for i, j in itertools.product(range(cm.shape[0]), range(cm.shape[1])):\n",
    "            color = \"white\" if cm[i, j] > threshold else \"black\"\n",
    "            plt.text(j, i, cm[i, j], horizontalalignment=\"center\", color=color)\n",
    "\n",
    "        plt.tight_layout()\n",
    "        plt.ylabel('True label')\n",
    "        plt.xlabel('Predicted label')\n",
    "        return figure\n",
    "    \n",
    "    \n",
    "    \n",
    "    def plot_to_image(figure):\n",
    "        \"\"\"Converts the matplotlib plot specified by 'figure' to a PNG image and\n",
    "        returns it. The supplied figure is closed and inaccessible after this call.\"\"\"\n",
    "        # Save the plot to a PNG in memory.\n",
    "        buf = io.BytesIO()\n",
    "        plt.savefig(buf, format='png')\n",
    "        # Closing the figure prevents it from being displayed directly inside\n",
    "        # the notebook.\n",
    "        plt.close(figure)\n",
    "        buf.seek(0)\n",
    "        # Convert PNG buffer to TF image\n",
    "        image = tf.image.decode_png(buf.getvalue(), channels=4)\n",
    "        # Add the batch dimension\n",
    "        image = tf.expand_dims(image, 0)\n",
    "        return image\n",
    "    \n",
    "    \n",
    "    # Defining a file writer for Confusion Matrix logging purposes\n",
    "    file_writer_cm = tf.summary.create_file_writer(log_dir + '/cm')     \n",
    "    \n",
    "    \n",
    "    def log_confusion_matrix(epoch, logs):\n",
    "        # Use the model to predict the values from the validation dataset.\n",
    "        test_pred_raw = model.predict(images_val)\n",
    "        test_pred = np.argmax(test_pred_raw, axis=1)\n",
    "\n",
    "        # Calculate the confusion matrix.\n",
    "        cm = sklearn.metrics.confusion_matrix(labels_val, test_pred)\n",
    "        # Log the confusion matrix as an image summary.\n",
    "        figure = plot_confusion_matrix(cm, class_names=['Glasses', 'Sunglasses'])\n",
    "        cm_image = plot_to_image(figure)\n",
    "\n",
    "        # Log the confusion matrix as an image summary.\n",
    "        with file_writer_cm.as_default():\n",
    "            tf.summary.image(\"Confusion Matrix\", cm_image, step=epoch)\n",
    "    \n",
    "    \n",
    "    \n",
    "    # Define the Tensorboard and Confusion Matrix callbacks.\n",
    "    tensorboard_callback = tf.keras.callbacks.TensorBoard(log_dir=log_dir, histogram_freq=1, profile_batch=0)\n",
    "    cm_callback = tf.keras.callbacks.LambdaCallback(on_epoch_end=log_confusion_matrix)\n",
    "\n",
    "    \n",
    "    # Defining early stopping to prevent overfitting\n",
    "    early_stopping = tf.keras.callbacks.EarlyStopping(\n",
    "        monitor = 'val_loss',\n",
    "        mode = 'auto',\n",
    "        min_delta = 0,\n",
    "        patience = 2,\n",
    "        verbose = 0, \n",
    "        restore_best_weights = True\n",
    "    )\n",
    "    \n",
    "    # Training the model\n",
    "    model.fit(\n",
    "        images_train,\n",
    "        labels_train,\n",
    "        epochs = EPOCHS,\n",
    "        batch_size = BATCH_SIZE, # if the batch_size parameter is set, TensorFlow would automatically SHUFFLE and BATCH the NumPy arrays (that is why we didn't do this earlier)\n",
    "        callbacks = [tensorboard_callback, cm_callback, early_stopping],\n",
    "        validation_data = (images_val,labels_val), # tuple of the numpy arrays\n",
    "        verbose = 2 # verbosity to 2 = limited printable information as to not clutter the screen\n",
    "    )\n",
    "    \n",
    "    \n",
    "    # Evaluating the model's performance on the validation set\n",
    "    _, accuracy = model.evaluate(images_val,labels_val) # important to make this evluation on the validation set and not on the test set, as we are yet to finalise the model\n",
    "    \n",
    "    # the model at that point is lost, as the variable that contains it is lost (the local variable is not logged!)\n",
    "    # so if want to test the model with a different dataset or continue the training we won't be able to do it\n",
    "    # hence, we will also export the model:\n",
    "    # Saving the current model for future reference\n",
    "    model.save(r\"saved_models/Model 1/Run-{}\".format(session_num)) # takes a lot of space so be careful\n",
    "    \n",
    "    return accuracy"
   ]
  },
  {
   "cell_type": "code",
   "execution_count": 26,
   "metadata": {},
   "outputs": [],
   "source": [
    "# Creating a function to log the resuls\n",
    "def run(log_dir, hparams, session_num):\n",
    "    \n",
    "    with tf.summary.create_file_writer(log_dir).as_default():\n",
    "        hp.hparams(hparams)  # record the values used in this trial\n",
    "        accuracy = train_test_model(hparams, session_num)\n",
    "        tf.summary.scalar(METRIC_ACCURACY, accuracy, step=1)"
   ]
  },
  {
   "cell_type": "code",
   "execution_count": 27,
   "metadata": {},
   "outputs": [
    {
     "name": "stdout",
     "output_type": "stream",
     "text": [
      "--- Starting trial: run-1\n",
      "{'filter_size': 3, 'filters_number': 32}\n",
      "Epoch 1/15\n",
      "63/63 - 35s - loss: 0.3618 - accuracy: 0.8463 - val_loss: 0.2052 - val_accuracy: 0.9440\n",
      "Epoch 2/15\n",
      "63/63 - 34s - loss: 0.1585 - accuracy: 0.9450 - val_loss: 0.2076 - val_accuracy: 0.9420\n",
      "Epoch 3/15\n",
      "63/63 - 33s - loss: 0.1354 - accuracy: 0.9590 - val_loss: 0.2069 - val_accuracy: 0.9440\n",
      "16/16 [==============================] - 1s 64ms/step - loss: 0.2052 - accuracy: 0.9440\n",
      "INFO:tensorflow:Assets written to: saved_models/Model 1/Run-1/assets\n",
      "--- Starting trial: run-2\n",
      "{'filter_size': 3, 'filters_number': 64}\n",
      "Epoch 1/15\n",
      "63/63 - 73s - loss: 0.4430 - accuracy: 0.8146 - val_loss: 0.2236 - val_accuracy: 0.9420\n",
      "Epoch 2/15\n",
      "63/63 - 75s - loss: 0.1530 - accuracy: 0.9520 - val_loss: 0.2170 - val_accuracy: 0.9600\n",
      "Epoch 3/15\n",
      "63/63 - 79s - loss: 0.1351 - accuracy: 0.9585 - val_loss: 0.2070 - val_accuracy: 0.9500\n",
      "Epoch 4/15\n",
      "63/63 - 67s - loss: 0.1368 - accuracy: 0.9588 - val_loss: 0.1960 - val_accuracy: 0.9560\n",
      "Epoch 5/15\n",
      "63/63 - 61s - loss: 0.1273 - accuracy: 0.9645 - val_loss: 0.1975 - val_accuracy: 0.9440\n",
      "Epoch 6/15\n",
      "63/63 - 75s - loss: 0.1376 - accuracy: 0.9585 - val_loss: 0.1960 - val_accuracy: 0.9600\n",
      "Epoch 7/15\n",
      "63/63 - 71s - loss: 0.1340 - accuracy: 0.9628 - val_loss: 0.2212 - val_accuracy: 0.9340\n",
      "Epoch 8/15\n",
      "63/63 - 70s - loss: 0.1187 - accuracy: 0.9673 - val_loss: 0.2061 - val_accuracy: 0.9600\n",
      "16/16 [==============================] - 2s 138ms/step - loss: 0.1960 - accuracy: 0.9600\n",
      "INFO:tensorflow:Assets written to: saved_models/Model 1/Run-2/assets\n",
      "--- Starting trial: run-3\n",
      "{'filter_size': 5, 'filters_number': 32}\n",
      "Epoch 1/15\n",
      "63/63 - 41s - loss: 0.4538 - accuracy: 0.7981 - val_loss: 0.2189 - val_accuracy: 0.9280\n",
      "Epoch 2/15\n",
      "63/63 - 33s - loss: 0.1763 - accuracy: 0.9438 - val_loss: 0.2072 - val_accuracy: 0.9560\n",
      "Epoch 3/15\n",
      "63/63 - 33s - loss: 0.1586 - accuracy: 0.9530 - val_loss: 0.2185 - val_accuracy: 0.9620\n",
      "Epoch 4/15\n",
      "63/63 - 31s - loss: 0.1526 - accuracy: 0.9515 - val_loss: 0.1975 - val_accuracy: 0.9540\n",
      "Epoch 5/15\n",
      "63/63 - 32s - loss: 0.1474 - accuracy: 0.9540 - val_loss: 0.2013 - val_accuracy: 0.9420\n",
      "Epoch 6/15\n",
      "63/63 - 36s - loss: 0.1372 - accuracy: 0.9588 - val_loss: 0.2022 - val_accuracy: 0.9560\n",
      "16/16 [==============================] - 1s 65ms/step - loss: 0.1975 - accuracy: 0.9540\n",
      "INFO:tensorflow:Assets written to: saved_models/Model 1/Run-3/assets\n",
      "--- Starting trial: run-4\n",
      "{'filter_size': 5, 'filters_number': 64}\n",
      "Epoch 1/15\n",
      "63/63 - 83s - loss: 0.3794 - accuracy: 0.8503 - val_loss: 0.2024 - val_accuracy: 0.9540\n",
      "Epoch 2/15\n",
      "63/63 - 71s - loss: 0.1607 - accuracy: 0.9523 - val_loss: 0.3287 - val_accuracy: 0.8980\n",
      "Epoch 3/15\n",
      "63/63 - 67s - loss: 0.1714 - accuracy: 0.9445 - val_loss: 0.2123 - val_accuracy: 0.9380\n",
      "16/16 [==============================] - 2s 127ms/step - loss: 0.2024 - accuracy: 0.9540\n",
      "INFO:tensorflow:Assets written to: saved_models/Model 1/Run-4/assets\n"
     ]
    }
   ],
   "source": [
    "session_num = 1\n",
    "\n",
    "for filter_size in HP_FILTER_SIZE.domain.values:\n",
    "    for filter_num in HP_FILTER_NUM.domain.values:\n",
    "\n",
    "        hparams = {\n",
    "            HP_FILTER_SIZE: filter_size,\n",
    "            HP_FILTER_NUM: filter_num\n",
    "        }\n",
    "\n",
    "        run_name = \"run-%d\" % session_num\n",
    "        print('--- Starting trial: %s' % run_name)\n",
    "        print({h.name: hparams[h] for h in hparams})\n",
    "        run('Logs/Model 1/hparam_tuning/' + run_name, hparams, session_num)\n",
    "\n",
    "        session_num += 1"
   ]
  },
  {
   "cell_type": "code",
   "execution_count": null,
   "metadata": {},
   "outputs": [],
   "source": []
  },
  {
   "cell_type": "code",
   "execution_count": 28,
   "metadata": {},
   "outputs": [],
   "source": [
    "# Loading a model to evaluate on the test set\n",
    "model = tf.keras.models.load_model(r\"saved_models/Model 1/Run-1\")"
   ]
  },
  {
   "cell_type": "code",
   "execution_count": 29,
   "metadata": {},
   "outputs": [
    {
     "name": "stdout",
     "output_type": "stream",
     "text": [
      "16/16 [==============================] - 1s 74ms/step - loss: 0.1532 - accuracy: 0.9480\n"
     ]
    }
   ],
   "source": [
    "test_loss, test_accuracy = model.evaluate(images_test,labels_test)"
   ]
  },
  {
   "cell_type": "code",
   "execution_count": 30,
   "metadata": {},
   "outputs": [
    {
     "name": "stdout",
     "output_type": "stream",
     "text": [
      "Test loss: 0.1532. Test accuracy: 94.80%\n"
     ]
    }
   ],
   "source": [
    "# Printing the test results\n",
    "print('Test loss: {0:.4f}. Test accuracy: {1:.2f}%'.format(test_loss, test_accuracy*100.))"
   ]
  },
  {
   "cell_type": "code",
   "execution_count": null,
   "metadata": {},
   "outputs": [],
   "source": []
  },
  {
   "cell_type": "code",
   "execution_count": 31,
   "metadata": {},
   "outputs": [
    {
     "name": "stdout",
     "output_type": "stream",
     "text": [
      "The tensorboard extension is already loaded. To reload it, use:\n",
      "  %reload_ext tensorboard\n"
     ]
    },
    {
     "data": {
      "text/plain": [
       "Reusing TensorBoard on port 6010 (pid 10546), started 4:47:41 ago. (Use '!kill 10546' to kill it.)"
      ]
     },
     "metadata": {},
     "output_type": "display_data"
    },
    {
     "data": {
      "text/html": [
       "\n",
       "      <iframe id=\"tensorboard-frame-75b46f5898e73c1\" width=\"100%\" height=\"800\" frameborder=\"0\">\n",
       "      </iframe>\n",
       "      <script>\n",
       "        (function() {\n",
       "          const frame = document.getElementById(\"tensorboard-frame-75b46f5898e73c1\");\n",
       "          const url = new URL(\"/\", window.location);\n",
       "          const port = 6010;\n",
       "          if (port) {\n",
       "            url.port = port;\n",
       "          }\n",
       "          frame.src = url;\n",
       "        })();\n",
       "      </script>\n",
       "    "
      ],
      "text/plain": [
       "<IPython.core.display.HTML object>"
      ]
     },
     "metadata": {},
     "output_type": "display_data"
    }
   ],
   "source": [
    "%load_ext tensorboard\n",
    "%tensorboard --logdir \"Logs/Model 1/hparam_tuning\""
   ]
  },
  {
   "cell_type": "code",
   "execution_count": 18,
   "metadata": {},
   "outputs": [
    {
     "name": "stdout",
     "output_type": "stream",
     "text": [
      "The tensorboard extension is already loaded. To reload it, use:\n",
      "  %reload_ext tensorboard\n"
     ]
    },
    {
     "data": {
      "text/html": [
       "\n",
       "      <iframe id=\"tensorboard-frame-c79fbe4ddb88c860\" width=\"100%\" height=\"800\" frameborder=\"0\">\n",
       "      </iframe>\n",
       "      <script>\n",
       "        (function() {\n",
       "          const frame = document.getElementById(\"tensorboard-frame-c79fbe4ddb88c860\");\n",
       "          const url = new URL(\"/\", window.location);\n",
       "          const port = 6011;\n",
       "          if (port) {\n",
       "            url.port = port;\n",
       "          }\n",
       "          frame.src = url;\n",
       "        })();\n",
       "      </script>\n",
       "    "
      ],
      "text/plain": [
       "<IPython.core.display.HTML object>"
      ]
     },
     "metadata": {},
     "output_type": "display_data"
    }
   ],
   "source": [
    "%load_ext tensorboard\n",
    "%tensorboard --logdir \"Logs/Model 1/fit\""
   ]
  },
  {
   "cell_type": "code",
   "execution_count": null,
   "metadata": {},
   "outputs": [],
   "source": []
  },
  {
   "cell_type": "code",
   "execution_count": null,
   "metadata": {},
   "outputs": [],
   "source": []
  }
 ],
 "metadata": {
  "kernelspec": {
   "display_name": "Python 3",
   "language": "python",
   "name": "python3"
  },
  "language_info": {
   "codemirror_mode": {
    "name": "ipython",
    "version": 3
   },
   "file_extension": ".py",
   "mimetype": "text/x-python",
   "name": "python",
   "nbconvert_exporter": "python",
   "pygments_lexer": "ipython3",
   "version": "3.7.4"
  }
 },
 "nbformat": 4,
 "nbformat_minor": 2
}
